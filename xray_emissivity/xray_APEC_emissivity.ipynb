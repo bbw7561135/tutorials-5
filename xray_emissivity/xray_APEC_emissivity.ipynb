{
 "cells": [
  {
   "cell_type": "code",
   "execution_count": 1,
   "metadata": {
    "collapsed": true
   },
   "outputs": [],
   "source": [
    "import h5py\n",
    "import numpy as np\n",
    "import matplotlib\n",
    "matplotlib.rcParams['figure.dpi'] = 150\n",
    "import matplotlib.pyplot as plt"
   ]
  },
  {
   "cell_type": "markdown",
   "metadata": {},
   "source": [
    "## Read the hdf5 file using `h5py`"
   ]
  },
  {
   "cell_type": "code",
   "execution_count": 2,
   "metadata": {
    "collapsed": true
   },
   "outputs": [],
   "source": [
    "h5f = h5py.File('apec_emissivity_v2.h5', 'r')"
   ]
  },
  {
   "cell_type": "markdown",
   "metadata": {},
   "source": [
    "### It works similar to a dictionary in python. We can print the keys and values in this file."
   ]
  },
  {
   "cell_type": "code",
   "execution_count": 3,
   "metadata": {
    "scrolled": true
   },
   "outputs": [
    {
     "name": "stdout",
     "output_type": "stream",
     "text": [
      "E <HDF5 dataset \"E\": shape (151,), type \"<f8\">\n",
      "emissivity_metals <HDF5 dataset \"emissivity_metals\": shape (100, 150), type \"<f8\">\n",
      "emissivity_primordial <HDF5 dataset \"emissivity_primordial\": shape (100, 150), type \"<f8\">\n",
      "log_T <HDF5 dataset \"log_T\": shape (100,), type \"<f8\">\n"
     ]
    }
   ],
   "source": [
    "for k, v in h5f.items():\n",
    "    print(k, v)"
   ]
  },
  {
   "cell_type": "markdown",
   "metadata": {},
   "source": [
    "### There are 4 datasets in this file, `E`, `emissivity_metals`, `emissivity_primordial`, and `log_T`.\n",
    "\n",
    "`E` is a 1D array that has 151 numbers. These are the edges of the energy bin.\n",
    "\n",
    "`log_T` is a 1D array that has 100 numbers.\n",
    "\n",
    "`emissivity_metals` and `emissivity_primordial` are 2D arrays that have 100 by 150. These are the average emissivity in each energy bin corresponding to the 100 temperatures in log_T. The unit is in [erg/s/keV$\\cdot$cm$^3$]."
   ]
  },
  {
   "cell_type": "markdown",
   "metadata": {},
   "source": [
    "### Use `h5f['key'].value` To acceess the data. For example, to get the energy bins"
   ]
  },
  {
   "cell_type": "code",
   "execution_count": 4,
   "metadata": {},
   "outputs": [
    {
     "data": {
      "text/plain": [
       "array([   0.1       ,    0.10471285,    0.10964782,    0.11481536,\n",
       "          0.12022644,    0.12589254,    0.13182567,    0.13803843,\n",
       "          0.14454398,    0.15135612,    0.15848932,    0.16595869,\n",
       "          0.17378008,    0.18197009,    0.19054607,    0.19952623,\n",
       "          0.20892961,    0.21877616,    0.22908677,    0.23988329,\n",
       "          0.25118864,    0.2630268 ,    0.27542287,    0.28840315,\n",
       "          0.30199517,    0.31622777,    0.33113112,    0.34673685,\n",
       "          0.36307805,    0.3801894 ,    0.39810717,    0.41686938,\n",
       "          0.43651583,    0.45708819,    0.47863009,    0.50118723,\n",
       "          0.52480746,    0.54954087,    0.57543994,    0.60255959,\n",
       "          0.63095734,    0.66069345,    0.69183097,    0.72443596,\n",
       "          0.75857758,    0.79432823,    0.83176377,    0.87096359,\n",
       "          0.91201084,    0.95499259,    1.        ,    1.04712855,\n",
       "          1.0964782 ,    1.14815362,    1.20226443,    1.25892541,\n",
       "          1.31825674,    1.38038426,    1.44543977,    1.51356125,\n",
       "          1.58489319,    1.65958691,    1.73780083,    1.81970086,\n",
       "          1.90546072,    1.99526231,    2.08929613,    2.18776162,\n",
       "          2.29086765,    2.39883292,    2.51188643,    2.63026799,\n",
       "          2.7542287 ,    2.8840315 ,    3.01995172,    3.16227766,\n",
       "          3.31131121,    3.4673685 ,    3.63078055,    3.80189396,\n",
       "          3.98107171,    4.16869383,    4.36515832,    4.5708819 ,\n",
       "          4.78630092,    5.01187234,    5.2480746 ,    5.49540874,\n",
       "          5.75439937,    6.02559586,    6.30957344,    6.60693448,\n",
       "          6.91830971,    7.2443596 ,    7.58577575,    7.94328235,\n",
       "          8.31763771,    8.7096359 ,    9.12010839,    9.54992586,\n",
       "         10.        ,   10.47128548,   10.96478196,   11.48153621,\n",
       "         12.02264435,   12.58925412,   13.18256739,   13.80384265,\n",
       "         14.45439771,   15.13561248,   15.84893192,   16.59586907,\n",
       "         17.37800829,   18.19700859,   19.05460718,   19.95262315,\n",
       "         20.89296131,   21.87761624,   22.90867653,   23.98832919,\n",
       "         25.11886432,   26.30267992,   27.54228703,   28.84031503,\n",
       "         30.1995172 ,   31.6227766 ,   33.11311215,   34.67368505,\n",
       "         36.30780548,   38.01893963,   39.81071706,   41.68693835,\n",
       "         43.65158322,   45.70881896,   47.86300923,   50.11872336,\n",
       "         52.48074602,   54.95408739,   57.54399373,   60.25595861,\n",
       "         63.09573445,   66.0693448 ,   69.18309709,   72.44359601,\n",
       "         75.8577575 ,   79.43282347,   83.17637711,   87.096359  ,\n",
       "         91.20108394,   95.4992586 ,  100.        ])"
      ]
     },
     "execution_count": 4,
     "metadata": {},
     "output_type": "execute_result"
    }
   ],
   "source": [
    "h5f['E'].value"
   ]
  },
  {
   "cell_type": "markdown",
   "metadata": {},
   "source": [
    "### This will read all the data into memory"
   ]
  },
  {
   "cell_type": "code",
   "execution_count": 5,
   "metadata": {
    "collapsed": true
   },
   "outputs": [],
   "source": [
    "E = h5f['E'].value\n",
    "emis_primordial = h5f['emissivity_primordial'].value\n",
    "emis_metals = h5f['emissivity_metals'].value\n",
    "log_T = h5f['log_T'].value\n",
    "\n",
    "# Close the file as we don't need it anymore\n",
    "h5f.close()"
   ]
  },
  {
   "cell_type": "markdown",
   "metadata": {},
   "source": [
    "## How to get the energy differences in each bin as an array?"
   ]
  },
  {
   "cell_type": "code",
   "execution_count": 6,
   "metadata": {},
   "outputs": [
    {
     "name": "stdout",
     "output_type": "stream",
     "text": [
      "(150,)\n",
      "[ 0.00471285  0.00493496  0.00516754  0.00541108  0.0056661   0.00593313\n",
      "  0.00621275  0.00650555  0.00681215  0.00713319  0.00746937  0.00782139\n",
      "  0.00819     0.00857599  0.00898016  0.00940338  0.00984655  0.0103106\n",
      "  0.01079653  0.01130535  0.01183816  0.01239607  0.01298028  0.01359202\n",
      "  0.01423259  0.01490336  0.01560573  0.0163412   0.01711134  0.01791777\n",
      "  0.01876221  0.01964645  0.02057236  0.0215419   0.02255714  0.02362023\n",
      "  0.02473341  0.02589906  0.02711965  0.02839776  0.0297361   0.03113752\n",
      "  0.03260499  0.03414161  0.03575066  0.03743554  0.03919982  0.04104725\n",
      "  0.04298175  0.04500741  0.04712855  0.04934965  0.05167543  0.05411081\n",
      "  0.05666098  0.05933133  0.06212753  0.06505551  0.06812148  0.07133194\n",
      "  0.07469371  0.07821392  0.08190003  0.08575986  0.0898016   0.09403382\n",
      "  0.09846549  0.10310603  0.10796527  0.11305351  0.11838156  0.12396071\n",
      "  0.1298028   0.13592022  0.14232594  0.14903355  0.15605729  0.16341204\n",
      "  0.17111342  0.17917774  0.18762213  0.19646449  0.20572357  0.21541903\n",
      "  0.22557141  0.23620227  0.24733414  0.25899063  0.27119649  0.28397758\n",
      "  0.29736104  0.31137523  0.32604989  0.34141615  0.3575066   0.37435536\n",
      "  0.39199819  0.41047249  0.42981747  0.45007414  0.47128548  0.49349648\n",
      "  0.51675425  0.54110813  0.56660977  0.59331327  0.62127526  0.65055506\n",
      "  0.68121478  0.71331944  0.74693715  0.78213921  0.8190003   0.85759859\n",
      "  0.89801597  0.94033816  0.98465493  1.03106029  1.07965266  1.13053512\n",
      "  1.1838156   1.23960711  1.298028    1.35920217  1.4232594   1.49033555\n",
      "  1.5605729   1.63412043  1.71113416  1.79177742  1.87622129  1.96464488\n",
      "  2.05723574  2.15419027  2.25571413  2.36202266  2.47334136  2.58990635\n",
      "  2.71196487  2.83977584  2.97361035  3.11375229  3.26049892  3.4141615\n",
      "  3.57506597  3.74355364  3.91998189  4.10472494  4.29817467  4.5007414 ]\n"
     ]
    }
   ],
   "source": [
    "dE = E[1:] - E[:-1]\n",
    "print(dE.shape)\n",
    "print(dE)"
   ]
  },
  {
   "cell_type": "code",
   "execution_count": null,
   "metadata": {
    "collapsed": true
   },
   "outputs": [],
   "source": []
  },
  {
   "cell_type": "markdown",
   "metadata": {},
   "source": [
    "## Exercise 0a: How to get the average energy in each energy bin as an array?"
   ]
  },
  {
   "cell_type": "code",
   "execution_count": null,
   "metadata": {
    "collapsed": true
   },
   "outputs": [],
   "source": []
  },
  {
   "cell_type": "markdown",
   "metadata": {},
   "source": [
    "## Exercise 1a: Plot the spectrum (emissivity as a function of energy) at T = 10^6 K\n",
    "\n",
    "Hint: `np.argmin` might be useful."
   ]
  },
  {
   "cell_type": "code",
   "execution_count": null,
   "metadata": {
    "collapsed": true
   },
   "outputs": [],
   "source": []
  },
  {
   "cell_type": "markdown",
   "metadata": {},
   "source": [
    "## Exercise 1b: Plot the spectrum at T = 10^7 K"
   ]
  },
  {
   "cell_type": "code",
   "execution_count": null,
   "metadata": {
    "collapsed": true
   },
   "outputs": [],
   "source": []
  },
  {
   "cell_type": "markdown",
   "metadata": {},
   "source": [
    "## Exercise 1c: Plot the spectrum at T = 10^8 K"
   ]
  },
  {
   "cell_type": "code",
   "execution_count": null,
   "metadata": {
    "collapsed": true
   },
   "outputs": [],
   "source": []
  },
  {
   "cell_type": "markdown",
   "metadata": {},
   "source": [
    "## Exercise 2a: Plot the cooling function (emissivity as a function of T) in the energy range from 0.1 to 100 keV with metallicity Z=1."
   ]
  },
  {
   "cell_type": "code",
   "execution_count": null,
   "metadata": {
    "collapsed": true
   },
   "outputs": [],
   "source": []
  },
  {
   "cell_type": "markdown",
   "metadata": {},
   "source": [
    "## Exercise 2b: Plot the cooling function in the three energy bands that you chose for the 3-color image\n",
    "\n",
    "Hint: Use the masks in python to select the energy range\n",
    "(http://danielandreasen.github.io/:about/2015/01/19/masks-in-python/)"
   ]
  },
  {
   "cell_type": "code",
   "execution_count": null,
   "metadata": {
    "collapsed": true
   },
   "outputs": [],
   "source": []
  },
  {
   "cell_type": "code",
   "execution_count": null,
   "metadata": {
    "collapsed": true
   },
   "outputs": [],
   "source": []
  }
 ],
 "metadata": {
  "kernelspec": {
   "display_name": "Python 3",
   "language": "python",
   "name": "python3"
  },
  "language_info": {
   "codemirror_mode": {
    "name": "ipython",
    "version": 3
   },
   "file_extension": ".py",
   "mimetype": "text/x-python",
   "name": "python",
   "nbconvert_exporter": "python",
   "pygments_lexer": "ipython3",
   "version": "3.6.1"
  }
 },
 "nbformat": 4,
 "nbformat_minor": 1
}
